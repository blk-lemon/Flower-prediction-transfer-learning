{
 "cells": [
  {
   "cell_type": "code",
   "execution_count": 1,
   "metadata": {},
   "outputs": [
    {
     "name": "stderr",
     "output_type": "stream",
     "text": [
      "Using TensorFlow backend.\n"
     ]
    }
   ],
   "source": [
    "# load VGG model\n",
    "image_size = 224\n",
    "from keras.applications import VGG16\n",
    "\n",
    "vgg_conv = VGG16(include_top=False, weights='imagenet', input_shape=(image_size, image_size, 3))"
   ]
  },
  {
   "cell_type": "code",
   "execution_count": 2,
   "metadata": {},
   "outputs": [
    {
     "name": "stdout",
     "output_type": "stream",
     "text": [
      "<keras.engine.input_layer.InputLayer object at 0x0000021A16D2EF60> False\n",
      "<keras.layers.convolutional.Conv2D object at 0x0000021A23A35A20> False\n",
      "<keras.layers.convolutional.Conv2D object at 0x0000021A23A35940> False\n",
      "<keras.layers.pooling.MaxPooling2D object at 0x0000021A23A55E10> False\n",
      "<keras.layers.convolutional.Conv2D object at 0x0000021A23A55978> False\n",
      "<keras.layers.convolutional.Conv2D object at 0x0000021A23BA4080> False\n",
      "<keras.layers.pooling.MaxPooling2D object at 0x0000021A23BB8A20> False\n",
      "<keras.layers.convolutional.Conv2D object at 0x0000021A23BB8F60> False\n",
      "<keras.layers.convolutional.Conv2D object at 0x0000021A23BD2B70> False\n",
      "<keras.layers.convolutional.Conv2D object at 0x0000021A23BE25F8> False\n",
      "<keras.layers.pooling.MaxPooling2D object at 0x0000021A23C13780> False\n",
      "<keras.layers.convolutional.Conv2D object at 0x0000021A23C13A90> False\n",
      "<keras.layers.convolutional.Conv2D object at 0x0000021A23C298D0> False\n",
      "<keras.layers.convolutional.Conv2D object at 0x0000021A23C429B0> False\n",
      "<keras.layers.pooling.MaxPooling2D object at 0x0000021A23C57D68> False\n",
      "<keras.layers.convolutional.Conv2D object at 0x0000021A23C72780> False\n",
      "<keras.layers.convolutional.Conv2D object at 0x0000021A23C84E10> False\n",
      "<keras.layers.convolutional.Conv2D object at 0x0000021A23C9E710> False\n",
      "<keras.layers.pooling.MaxPooling2D object at 0x0000021A23CAFF60> False\n"
     ]
    }
   ],
   "source": [
    "# freeze all the layers\n",
    "for layer in vgg_conv.layers[:]:\n",
    "    layer.trainable = False\n",
    "\n",
    "# check the status\n",
    "for layer in vgg_conv.layers:\n",
    "    print(layer, layer.trainable)"
   ]
  },
  {
   "cell_type": "code",
   "execution_count": 4,
   "metadata": {},
   "outputs": [
    {
     "name": "stderr",
     "output_type": "stream",
     "text": [
      "Flowers Dataset: 60.3MB [00:07, 8.25MB/s]                              \n"
     ]
    }
   ],
   "source": [
    "# download the dateset\n",
    "import tarfile\n",
    "from urllib.request import urlretrieve\n",
    "from os.path import isfile, isdir\n",
    "from tqdm import tqdm\n",
    "\n",
    "dataset_folder_path = '17flowers'\n",
    "class DLProgress(tqdm):\n",
    "    last_block = 0\n",
    "\n",
    "    def hook(self, block_num=1, block_size=1, total_size=None):\n",
    "        self.total = total_size\n",
    "        self.update((block_num - self.last_block) * block_size)\n",
    "        self.last_block = block_num\n",
    "\n",
    "if not isfile('17flowers.tar.gz'):\n",
    "    with DLProgress(unit='B', unit_scale=True, miniters=1, desc='Flowers Dataset') as pbar:\n",
    "        urlretrieve(\n",
    "            'http://www.robots.ox.ac.uk/~vgg/data/flowers/17/17flowers.tgz',\n",
    "            '17flowers.tar.gz',\n",
    "            pbar.hook)\n",
    "# extract all files inside tar\n",
    "if not isdir(dataset_folder_path):\n",
    "    with tarfile.open('17flowers.tar.gz') as tar:\n",
    "        tar.extractall()\n",
    "        tar.close()"
   ]
  },
  {
   "cell_type": "code",
   "execution_count": 3,
   "metadata": {},
   "outputs": [
    {
     "name": "stdout",
     "output_type": "stream",
     "text": [
      "_________________________________________________________________\n",
      "Layer (type)                 Output Shape              Param #   \n",
      "=================================================================\n",
      "vgg16 (Model)                (None, 7, 7, 512)         14714688  \n",
      "_________________________________________________________________\n",
      "flatten_1 (Flatten)          (None, 25088)             0         \n",
      "_________________________________________________________________\n",
      "dense_1 (Dense)              (None, 1024)              25691136  \n",
      "_________________________________________________________________\n",
      "dropout_1 (Dropout)          (None, 1024)              0         \n",
      "_________________________________________________________________\n",
      "dense_2 (Dense)              (None, 3)                 3075      \n",
      "=================================================================\n",
      "Total params: 40,408,899\n",
      "Trainable params: 25,694,211\n",
      "Non-trainable params: 14,714,688\n",
      "_________________________________________________________________\n"
     ]
    }
   ],
   "source": [
    "from keras import models\n",
    "from keras import layers\n",
    "from keras import optimizers\n",
    "\n",
    "# Create the model\n",
    "model = models.Sequential()\n",
    " \n",
    "# Add the vgg convolutional base model\n",
    "model.add(vgg_conv)\n",
    " \n",
    "# Add new layers\n",
    "model.add(layers.Flatten())\n",
    "model.add(layers.Dense(1024, activation='relu'))\n",
    "model.add(layers.Dropout(0.5))\n",
    "model.add(layers.Dense(3, activation='softmax'))\n",
    " \n",
    "# Show a summary of the model. Check the number of trainable parameters\n",
    "model.summary()"
   ]
  },
  {
   "cell_type": "code",
   "execution_count": 2,
   "metadata": {
    "collapsed": true
   },
   "outputs": [],
   "source": [
    "#import os\n",
    "#data_dir = 'jpg/'\n",
    "#contents = []\n",
    "#for i in os.listdir(data_dir):\n",
    "    #if i.endswith('.jpg'):\n",
    "        #contents.append(i)\n",
    "        \n",
    "#classes = [each for each in contents if os.path.isdir(data_dir + each)]"
   ]
  },
  {
   "cell_type": "code",
   "execution_count": 7,
   "metadata": {
    "collapsed": true
   },
   "outputs": [],
   "source": [
    "import os\n",
    "import glob\n",
    "\n",
    "# give the input path, write new data into train\n",
    "input_path  = \"C:\\\\Users\\\\caozm\\\\Downloads\\\\jpg\"\n",
    "output_path = \"C:\\\\Users\\\\caozm\\\\Downloads\\\\dataset\\\\train\"\n",
    "\n",
    "# get the class label limit\n",
    "class_limit = 17\n",
    "\n",
    "# take all the images from the dataset\n",
    "image_paths = glob.glob(input_path + \"\\\\*.jpg\")\n",
    "\n",
    "# variables to keep track\n",
    "label = 0\n",
    "i = 0\n",
    "j = 80\n",
    "\n",
    "# flower17 class names\n",
    "class_names = [\"daffodil\", \"snowdrop\", \"lilyvalley\", \"bluebell\", \"crocus\",\n",
    "\"iris\", \"tigerlily\", \"tulip\", \"fritillary\", \"sunflower\", \n",
    "\"daisy\", \"coltsfoot\", \"dandelion\", \"cowslip\", \"buttercup\",\n",
    "\"windflower\", \"pansy\"]\n",
    "\n",
    "# change the current working directory\n",
    "os.chdir(output_path)\n",
    "\n",
    "# loop over the class labels\n",
    "for x in range(1, class_limit+1):\n",
    "    # create a folder for that class\n",
    "    os.system(\"mkdir \" + class_names[label])\n",
    "    # get the current path\n",
    "    cur_path = output_path + \"\\\\\" + class_names[label] + \"\\\\\"\n",
    "    # loop over the images in the dataset\n",
    "    for image_path in image_paths[i:j]:\n",
    "        original_path = image_path\n",
    "        image_path = image_path.split(\"\\\\\")\n",
    "        image_path = image_path[len(image_path)-1]\n",
    "        os.system(\"copy \" + original_path + \" \" + cur_path + image_path)\n",
    "    i += 80\n",
    "    j += 80\n",
    "    label += 1"
   ]
  },
  {
   "cell_type": "code",
   "execution_count": 8,
   "metadata": {
    "collapsed": true
   },
   "outputs": [],
   "source": [
    "import os\n",
    "import glob\n",
    "\n",
    "# create path and put data inside test\n",
    "input_path  = \"C:\\\\Users\\\\caozm\\\\Downloads\\\\jpg\"\n",
    "output_path = \"C:\\\\Users\\\\caozm\\\\Downloads\\\\dataset\\\\test\"\n",
    "\n",
    "# get the class label limit\n",
    "class_limit = 17\n",
    "\n",
    "# take all the images from the dataset\n",
    "image_paths = glob.glob(input_path + \"\\\\*.jpg\")\n",
    "\n",
    "# variables to keep track\n",
    "label = 0\n",
    "i = 0\n",
    "j = 80\n",
    "\n",
    "# flower17 class names\n",
    "class_names = [\"daffodil\", \"snowdrop\", \"lilyvalley\", \"bluebell\", \"crocus\",\n",
    "\"iris\", \"tigerlily\", \"tulip\", \"fritillary\", \"sunflower\", \n",
    "\"daisy\", \"coltsfoot\", \"dandelion\", \"cowslip\", \"buttercup\",\n",
    "\"windflower\", \"pansy\"]\n",
    "\n",
    "# change the current working directory\n",
    "os.chdir(output_path)\n",
    "\n",
    "# loop over the class labels\n",
    "for x in range(1, class_limit+1):\n",
    "    # create a folder for that class\n",
    "    os.system(\"mkdir \" + class_names[label])\n",
    "    # get the current path\n",
    "    cur_path = output_path + \"\\\\\" + class_names[label] + \"\\\\\"\n",
    "    # loop over the images in the dataset\n",
    "    for image_path in image_paths[i:j]:\n",
    "        original_path = image_path\n",
    "        image_path = image_path.split(\"\\\\\")\n",
    "        image_path = image_path[len(image_path)-1]\n",
    "        os.system(\"copy \" + original_path + \" \" + cur_path + image_path)\n",
    "    i += 80\n",
    "    j += 80\n",
    "    label += 1"
   ]
  },
  {
   "cell_type": "code",
   "execution_count": 17,
   "metadata": {
    "collapsed": true
   },
   "outputs": [],
   "source": [
    "# identify train and test path\n",
    "train_dir = 'C:\\\\Users\\\\caozm\\\\Downloads\\\\dataset\\\\train'\n",
    "validation_dir = 'C:\\\\Users\\\\caozm\\\\Downloads\\\\dataset\\\\test'\n",
    "\n",
    "# give train and test number, 80% is train\n",
    "nTrain = 1088\n",
    "nVal = 272\n",
    "\n",
    "# import whatever needed\n",
    "import numpy as np\n",
    "import keras\n",
    "import matplotlib.pyplot as plt\n",
    "%matplotlib inline\n",
    "from __future__ import print_function\n",
    "from keras.preprocessing.image import ImageDataGenerator, load_img"
   ]
  },
  {
   "cell_type": "code",
   "execution_count": 24,
   "metadata": {
    "collapsed": true
   },
   "outputs": [],
   "source": [
    "from PIL import Image\n",
    "datagen = ImageDataGenerator(rescale=1./255)\n",
    "batch_size = 8\n",
    "\n",
    "train_features = np.zeros(shape=(nTrain, 7, 7, 512))\n",
    "train_labels = np.zeros(shape=(nTrain,17))"
   ]
  },
  {
   "cell_type": "code",
   "execution_count": 25,
   "metadata": {},
   "outputs": [
    {
     "name": "stdout",
     "output_type": "stream",
     "text": [
      "Found 1360 images belonging to 17 classes.\n",
      "Found 1360 images belonging to 17 classes.\n"
     ]
    }
   ],
   "source": [
    "# Data Generator for train data\n",
    "train_generator = train_datagen.flow_from_directory(\n",
    "    directory=train_dir,\n",
    "    target_size=(image_size, image_size),\n",
    "    color_mode='rgb',\n",
    "    class_mode='categorical',\n",
    "    batch_size=batch_size,\n",
    "    shuffle=True)\n",
    "# Data Generator for test data\n",
    "test_generator = test_datagen.flow_from_directory(\n",
    "    directory=validation_dir,\n",
    "    target_size=(image_size, image_size),\n",
    "    color_mode='rgb',\n",
    "    class_mode='categorical',\n",
    "    batch_size=batch_size,\n",
    "    shuffle=True)"
   ]
  },
  {
   "cell_type": "code",
   "execution_count": 26,
   "metadata": {
    "collapsed": true
   },
   "outputs": [],
   "source": [
    "# features extraction\n",
    "i = 0\n",
    "for inputs_batch, labels_batch in train_generator:\n",
    "    features_batch = vgg_conv.predict(inputs_batch)\n",
    "    train_features[i * batch_size : (i + 1) * batch_size] = features_batch\n",
    "    train_labels[i * batch_size : (i + 1) * batch_size] = labels_batch\n",
    "    i += 1\n",
    "    if i * batch_size >= nTrain:\n",
    "        break\n",
    "        \n",
    "train_features = np.reshape(train_features, (nTrain, 7 * 7 * 512))"
   ]
  },
  {
   "cell_type": "code",
   "execution_count": 29,
   "metadata": {
    "collapsed": true
   },
   "outputs": [],
   "source": [
    "# use the ImageDataGenerator class to load the images and flow_from_directory function to generate batches of images and labels\n",
    "validation_features = np.zeros(shape=(nVal, 7, 7, 512))\n",
    "validation_labels = np.zeros(shape=(nVal,17))\n",
    "i = 0\n",
    "for inputs_batch, labels_batch in test_generator:\n",
    "    features_batch = vgg_conv.predict(inputs_batch)\n",
    "    validation_features[i * batch_size : (i + 1) * batch_size] = features_batch\n",
    "    validation_labels[i * batch_size : (i + 1) * batch_size] = labels_batch\n",
    "    i += 1\n",
    "    if i * batch_size >= nVal:\n",
    "        break\n",
    "\n",
    "validation_features = np.reshape(validation_features, (nVal, 7 * 7 * 512))"
   ]
  },
  {
   "cell_type": "code",
   "execution_count": 30,
   "metadata": {},
   "outputs": [
    {
     "name": "stdout",
     "output_type": "stream",
     "text": [
      "Train on 1088 samples, validate on 272 samples\n",
      "Epoch 1/20\n",
      "1088/1088 [==============================] - 25s 23ms/step - loss: 2.4273 - acc: 0.3107 - val_loss: 1.1415 - val_acc: 0.6985\n",
      "Epoch 2/20\n",
      "1088/1088 [==============================] - 25s 23ms/step - loss: 1.1601 - acc: 0.6406 - val_loss: 0.7150 - val_acc: 0.7757\n",
      "Epoch 3/20\n",
      "1088/1088 [==============================] - 26s 24ms/step - loss: 0.6972 - acc: 0.7757 - val_loss: 0.5693 - val_acc: 0.8419\n",
      "Epoch 4/20\n",
      "1088/1088 [==============================] - 25s 23ms/step - loss: 0.4295 - acc: 0.8621 - val_loss: 0.4065 - val_acc: 0.9118\n",
      "Epoch 5/20\n",
      "1088/1088 [==============================] - 25s 23ms/step - loss: 0.2913 - acc: 0.8989 - val_loss: 0.3618 - val_acc: 0.8824\n",
      "Epoch 6/20\n",
      "1088/1088 [==============================] - 25s 23ms/step - loss: 0.2407 - acc: 0.9200 - val_loss: 0.4392 - val_acc: 0.8787\n",
      "Epoch 7/20\n",
      "1088/1088 [==============================] - 25s 23ms/step - loss: 0.1769 - acc: 0.9366 - val_loss: 0.4374 - val_acc: 0.8640\n",
      "Epoch 8/20\n",
      "1088/1088 [==============================] - 25s 23ms/step - loss: 0.1316 - acc: 0.9550 - val_loss: 0.3807 - val_acc: 0.8897\n",
      "Epoch 9/20\n",
      "1088/1088 [==============================] - 25s 23ms/step - loss: 0.0796 - acc: 0.9733 - val_loss: 0.4108 - val_acc: 0.8934\n",
      "Epoch 10/20\n",
      "1088/1088 [==============================] - 25s 23ms/step - loss: 0.0795 - acc: 0.9752 - val_loss: 0.3512 - val_acc: 0.8971\n",
      "Epoch 11/20\n",
      "1088/1088 [==============================] - 25s 23ms/step - loss: 0.0762 - acc: 0.9752 - val_loss: 0.3895 - val_acc: 0.9007\n",
      "Epoch 12/20\n",
      "1088/1088 [==============================] - 25s 23ms/step - loss: 0.0624 - acc: 0.9844 - val_loss: 0.4159 - val_acc: 0.8934\n",
      "Epoch 13/20\n",
      "1088/1088 [==============================] - 24s 22ms/step - loss: 0.0619 - acc: 0.9807 - val_loss: 0.3922 - val_acc: 0.9044\n",
      "Epoch 14/20\n",
      "1088/1088 [==============================] - 24s 22ms/step - loss: 0.0385 - acc: 0.9908 - val_loss: 0.4785 - val_acc: 0.8934\n",
      "Epoch 15/20\n",
      "1088/1088 [==============================] - 24s 22ms/step - loss: 0.0379 - acc: 0.9881 - val_loss: 0.3345 - val_acc: 0.9154\n",
      "Epoch 16/20\n",
      "1088/1088 [==============================] - 24s 22ms/step - loss: 0.0325 - acc: 0.9871 - val_loss: 0.3449 - val_acc: 0.9154\n",
      "Epoch 17/20\n",
      "1088/1088 [==============================] - 24s 22ms/step - loss: 0.0213 - acc: 0.9945 - val_loss: 0.3491 - val_acc: 0.9154\n",
      "Epoch 18/20\n",
      "1088/1088 [==============================] - 24s 22ms/step - loss: 0.0192 - acc: 0.9936 - val_loss: 0.4236 - val_acc: 0.9007\n",
      "Epoch 19/20\n",
      "1088/1088 [==============================] - 24s 22ms/step - loss: 0.0235 - acc: 0.9908 - val_loss: 0.4636 - val_acc: 0.8897\n",
      "Epoch 20/20\n",
      "1088/1088 [==============================] - 25s 23ms/step - loss: 0.0165 - acc: 0.9945 - val_loss: 0.4267 - val_acc: 0.9081\n"
     ]
    }
   ],
   "source": [
    "from keras import models\n",
    "from keras import layers\n",
    "from keras import optimizers\n",
    "\n",
    "model = models.Sequential()\n",
    "model.add(layers.Dense(600, activation='relu', input_dim=7 * 7 * 512))\n",
    "model.add(layers.Dropout(0.5))\n",
    "model.add(layers.Dense(17, activation='softmax'))\n",
    "# compile the model\n",
    "model.compile(optimizer=optimizers.RMSprop(lr=2e-4),\n",
    "              loss='categorical_crossentropy',\n",
    "              metrics=['acc'])\n",
    "# train the model\n",
    "history = model.fit(train_features,\n",
    "                    train_labels,\n",
    "                    epochs=20,\n",
    "                    batch_size=batch_size,\n",
    "                    validation_data=(validation_features,validation_labels))"
   ]
  },
  {
   "cell_type": "code",
   "execution_count": 31,
   "metadata": {},
   "outputs": [
    {
     "data": {
      "image/png": "[encoded data removed]",
      "text/plain": [
       "<Figure size 432x288 with 1 Axes>"
      ]
     },
     "metadata": {
      "needs_background": "light"
     },
     "output_type": "display_data"
    },
    {
     "data": {
      "image/png": "[encoded data removed]",
      "text/plain": [
       "<Figure size 432x288 with 1 Axes>"
      ]
     },
     "metadata": {
      "needs_background": "light"
     },
     "output_type": "display_data"
    }
   ],
   "source": [
    "# plot the accuracy graph\n",
    "acc = history.history['acc']\n",
    "val_acc = history.history['val_acc']\n",
    "loss = history.history['loss']\n",
    "val_loss = history.history['val_loss']\n",
    " \n",
    "epochs = range(len(acc))\n",
    " \n",
    "plt.plot(epochs, acc, 'b', label='Training acc')\n",
    "plt.plot(epochs, val_acc, 'r', label='Validation acc')\n",
    "plt.title('Training and validation accuracy')\n",
    "plt.legend()\n",
    " \n",
    "plt.figure()\n",
    " \n",
    "plt.plot(epochs, loss, 'b', label='Training loss')\n",
    "plt.plot(epochs, val_loss, 'r', label='Validation loss')\n",
    "plt.title('Training and validation loss')\n",
    "plt.legend()\n",
    " \n",
    "plt.show()\n",
    "# looks okay, but there is still some error, need improvment"
   ]
  },
  {
   "cell_type": "code",
   "execution_count": null,
   "metadata": {
    "collapsed": true
   },
   "outputs": [],
   "source": []
  },
  {
   "cell_type": "code",
   "execution_count": 17,
   "metadata": {
    "collapsed": true
   },
   "outputs": [],
   "source": [
    "##############################\n",
    "#import random\n",
    "#random.shuffle(contents)\n",
    "#split_1 = int(0.8 * len(contents))\n",
    "#train_data = contents[:split_1]\n",
    "#val_data = contents[split_1:]"
   ]
  },
  {
   "cell_type": "code",
   "execution_count": null,
   "metadata": {
    "collapsed": true
   },
   "outputs": [],
   "source": []
  }
 ],
 "metadata": {
  "kernelspec": {
   "display_name": "Python 3",
   "language": "python",
   "name": "python3"
  },
  "language_info": {
   "codemirror_mode": {
    "name": "ipython",
    "version": 3
   },
   "file_extension": ".py",
   "mimetype": "text/x-python",
   "name": "python",
   "nbconvert_exporter": "python",
   "pygments_lexer": "ipython3",
   "version": "3.6.7"
  }
 },
 "nbformat": 4,
 "nbformat_minor": 2
}
